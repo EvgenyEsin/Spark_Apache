{
  "nbformat": 4,
  "nbformat_minor": 0,
  "metadata": {
    "colab": {
      "provenance": []
    },
    "kernelspec": {
      "name": "python3",
      "display_name": "Python 3"
    },
    "language_info": {
      "name": "python"
    }
  },
  "cells": [
    {
      "cell_type": "markdown",
      "source": [
        "# ДЗ к семинару 1\n",
        "\n",
        "Найти самую длинную последовательность упорядоченных чисел в RDD и вывести её."
      ],
      "metadata": {
        "id": "se8jniv20XOq"
      }
    },
    {
      "cell_type": "code",
      "execution_count": 1,
      "metadata": {
        "id": "bUnJGtYZ0AkZ",
        "colab": {
          "base_uri": "https://localhost:8080/"
        },
        "outputId": "785d4c96-1b69-496d-ee1c-ad237e447028"
      },
      "outputs": [
        {
          "output_type": "stream",
          "name": "stdout",
          "text": [
            "Collecting pyspark\n",
            "  Downloading pyspark-3.5.1.tar.gz (317.0 MB)\n",
            "\u001b[2K     \u001b[90m━━━━━━━━━━━━━━━━━━━━━━━━━━━━━━━━━━━━━━━━\u001b[0m \u001b[32m317.0/317.0 MB\u001b[0m \u001b[31m2.8 MB/s\u001b[0m eta \u001b[36m0:00:00\u001b[0m\n",
            "\u001b[?25h  Preparing metadata (setup.py) ... \u001b[?25l\u001b[?25hdone\n",
            "Requirement already satisfied: py4j==0.10.9.7 in /usr/local/lib/python3.10/dist-packages (from pyspark) (0.10.9.7)\n",
            "Building wheels for collected packages: pyspark\n",
            "  Building wheel for pyspark (setup.py) ... \u001b[?25l\u001b[?25hdone\n",
            "  Created wheel for pyspark: filename=pyspark-3.5.1-py2.py3-none-any.whl size=317488490 sha256=f4757db12e4bdc617bc2e9ac2a43b221ec08b87565b11fbfbff569be062facd0\n",
            "  Stored in directory: /root/.cache/pip/wheels/80/1d/60/2c256ed38dddce2fdd93be545214a63e02fbd8d74fb0b7f3a6\n",
            "Successfully built pyspark\n",
            "Installing collected packages: pyspark\n",
            "Successfully installed pyspark-3.5.1\n"
          ]
        }
      ],
      "source": [
        "!pip install pyspark"
      ]
    },
    {
      "cell_type": "code",
      "source": [
        "import pyspark\n",
        "from pyspark import SparkContext\n",
        "from pyspark.sql import SparkSession\n",
        "from functools import reduce\n",
        "import matplotlib.pyplot as plt\n",
        "import timeit, random, itertools, operator, functools, numpy"
      ],
      "metadata": {
        "id": "_zkYZd0y0hbi"
      },
      "execution_count": 2,
      "outputs": []
    },
    {
      "cell_type": "code",
      "source": [
        "a, b, s = 0, 10, 10\n",
        "data = list(numpy.random.randint(a, b, s))\n",
        "print(data)\n",
        "plt.bar(range(len(data)), data, align='center')\n",
        "plt.show()"
      ],
      "metadata": {
        "colab": {
          "base_uri": "https://localhost:8080/",
          "height": 447
        },
        "id": "WXY-_DvOFYR1",
        "outputId": "e8c0b5d8-71d4-4992-e989-cb8b8d0712f5"
      },
      "execution_count": 9,
      "outputs": [
        {
          "output_type": "stream",
          "name": "stdout",
          "text": [
            "[6, 9, 9, 3, 6, 3, 8, 6, 3, 1]\n"
          ]
        },
        {
          "output_type": "display_data",
          "data": {
            "text/plain": [
              "<Figure size 640x480 with 1 Axes>"
            ],
            "image/png": "[encoded data removed]"
          },
          "metadata": {}
        }
      ]
    },
    {
      "cell_type": "code",
      "source": [
        "# Создаем SparkContext\n",
        "sc = SparkContext(\"local\", \"Longest Ordered Sequence\")\n",
        "# Преобразуем список в RDD\n",
        "rdd = sc.parallelize(data)"
      ],
      "metadata": {
        "id": "K2Jz1u8EeHIz"
      },
      "execution_count": 78,
      "outputs": []
    },
    {
      "cell_type": "code",
      "source": [
        "def find_longest_sequence(rdd):\n",
        "    current_sequence = [rdd.collect()[0], rdd.collect()[1]] # Создаем первую последовательность из первой пары элементов\n",
        "    longest_sequence = current_sequence # тут будет храниться самая длинная последовательность, пока что положим туда первую пару\n",
        "    for num in rdd.collect()[2:]: # пройдемся по всей последовательности, начиная с третьего элемента\n",
        "        if ((num - current_sequence[-1]) * (current_sequence[-1] - current_sequence[-2])) > 0:\n",
        "            # найдем любую последовательность: что по возрастанию, что по убыванию\n",
        "            # путем сравния трех чисел: два уже хранятся в конце переменной current_sequence, а третье в переменной num (например: 5, 7, 10)\n",
        "            # идея в том, что мы сначала попарно вычитаем (7-5) и (10-7), а затем полученные результаты перемножаем, то есть 2*3=6, это > 0.\n",
        "            # это произведение в любой последовательности всегда будет больше 0. Еще пример: 6, 3, -6, -12 -> (3-6) * (-6-3) * (-6-(-12) = (-3) * (-9) * (6) = +162 > 0.\n",
        "            current_sequence.append(num) # добавляем в нашу последовательность новое значение\n",
        "        else:\n",
        "            if len(current_sequence) >= len(longest_sequence):\n",
        "                longest_sequence = current_sequence\n",
        "            current_sequence = [longest_sequence[-1], num]\n",
        "    if len(current_sequence) > len(longest_sequence):\n",
        "      longest_sequence = current_sequence\n",
        "    return longest_sequence"
      ],
      "metadata": {
        "id": "YCtHHUUkGcJQ"
      },
      "execution_count": 148,
      "outputs": []
    },
    {
      "cell_type": "code",
      "source": [
        "longest_sequence = find_longest_sequence(rdd)\n",
        "print(longest_sequence)"
      ],
      "metadata": {
        "colab": {
          "base_uri": "https://localhost:8080/"
        },
        "id": "5m8ZDvmHHBrk",
        "outputId": "0f718e25-886c-4901-9faf-3685aeb22553"
      },
      "execution_count": 149,
      "outputs": [
        {
          "output_type": "stream",
          "name": "stdout",
          "text": [
            "[8, 6, 3, 1]\n"
          ]
        }
      ]
    },
    {
      "cell_type": "code",
      "source": [
        "# Останавливаем SparkContext\n",
        "sc.stop()"
      ],
      "metadata": {
        "id": "H-Rs7MoJeHRK"
      },
      "execution_count": 77,
      "outputs": []
    }
  ]
}