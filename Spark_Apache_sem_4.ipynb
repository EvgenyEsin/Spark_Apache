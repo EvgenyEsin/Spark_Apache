{
  "nbformat": 4,
  "nbformat_minor": 0,
  "metadata": {
    "colab": {
      "provenance": [],
      "authorship_tag": "ABX9TyOvmDKc9mCiamk0J9Iy56q9",
      "include_colab_link": true
    },
    "kernelspec": {
      "name": "python3",
      "display_name": "Python 3"
    },
    "language_info": {
      "name": "python"
    }
  },
  "cells": [
    {
      "cell_type": "markdown",
      "metadata": {
        "id": "view-in-github",
        "colab_type": "text"
      },
      "source": [
        "<a href=\"https://colab.research.google.com/github/EvgenyEsin/Spark_Apache/blob/main/Spark_Apache_sem_4.ipynb\" target=\"_parent\"><img src=\"https://colab.research.google.com/assets/colab-badge.svg\" alt=\"Open In Colab\"/></a>"
      ]
    },
    {
      "cell_type": "markdown",
      "source": [
        "## ДЗ к семинару 4\n",
        "\n",
        "Условие: используйте источник rate, напишите код, который создаст дополнительный столбец, который будет выводить сумму только нечётных чисел."
      ],
      "metadata": {
        "id": "oh43HQIC2A_H"
      }
    },
    {
      "cell_type": "code",
      "execution_count": 1,
      "metadata": {
        "colab": {
          "base_uri": "https://localhost:8080/"
        },
        "id": "J3xqZza718D0",
        "outputId": "2faca1bc-54a2-48f4-e74a-486c30467706"
      },
      "outputs": [
        {
          "output_type": "stream",
          "name": "stdout",
          "text": [
            "Collecting pyspark\n",
            "  Downloading pyspark-3.5.1.tar.gz (317.0 MB)\n",
            "\u001b[2K     \u001b[90m━━━━━━━━━━━━━━━━━━━━━━━━━━━━━━━━━━━━━━━━\u001b[0m \u001b[32m317.0/317.0 MB\u001b[0m \u001b[31m4.8 MB/s\u001b[0m eta \u001b[36m0:00:00\u001b[0m\n",
            "\u001b[?25h  Preparing metadata (setup.py) ... \u001b[?25l\u001b[?25hdone\n",
            "Requirement already satisfied: py4j==0.10.9.7 in /usr/local/lib/python3.10/dist-packages (from pyspark) (0.10.9.7)\n",
            "Building wheels for collected packages: pyspark\n",
            "  Building wheel for pyspark (setup.py) ... \u001b[?25l\u001b[?25hdone\n",
            "  Created wheel for pyspark: filename=pyspark-3.5.1-py2.py3-none-any.whl size=317488490 sha256=1b23ffa311f12528b602e42a4451ddab41ac71d802275c78673ebea8ffd639d6\n",
            "  Stored in directory: /root/.cache/pip/wheels/80/1d/60/2c256ed38dddce2fdd93be545214a63e02fbd8d74fb0b7f3a6\n",
            "Successfully built pyspark\n",
            "Installing collected packages: pyspark\n",
            "Successfully installed pyspark-3.5.1\n"
          ]
        }
      ],
      "source": [
        "! pip install pyspark"
      ]
    },
    {
      "cell_type": "code",
      "source": [
        "import pyspark\n",
        "from pyspark import SparkContext\n",
        "from pyspark.sql import SparkSession\n",
        "from pyspark.sql.window import Window\n",
        "from pyspark.sql.functions import col, sum\n",
        "from pprint import pprint\n",
        "import warnings\n",
        "warnings.simplefilter(action='ignore', category=FutureWarning)"
      ],
      "metadata": {
        "id": "dYGGSHav2LcN"
      },
      "execution_count": 55,
      "outputs": []
    },
    {
      "cell_type": "code",
      "source": [
        "# Создаем SparkSession\n",
        "spark = SparkSession.builder.appName(\"Homework4\").getOrCreate()"
      ],
      "metadata": {
        "id": "fUkco9z32WXv"
      },
      "execution_count": 56,
      "outputs": []
    },
    {
      "cell_type": "code",
      "source": [
        "# Создаем поток данных с использованием источника данных `rate`\n",
        "streaming_df = spark \\\n",
        ".readStream \\\n",
        ".format(\"rate\") \\\n",
        ".option(\"maxFilesPerTrigger\", 1) \\\n",
        ".load()"
      ],
      "metadata": {
        "id": "PBwz9-zZ2aJ1"
      },
      "execution_count": 57,
      "outputs": []
    },
    {
      "cell_type": "code",
      "source": [
        "# Оставляем только те строки, где значение нечетное\n",
        "filtered_df = streaming_df.filter(col(\"value\") % 2 == 1)"
      ],
      "metadata": {
        "id": "SqtXpIuL2dKg"
      },
      "execution_count": 58,
      "outputs": []
    },
    {
      "cell_type": "code",
      "source": [
        "# Суммирование\n",
        "sum_odds = filtered_df.agg(sum(\"value\"))"
      ],
      "metadata": {
        "id": "hk_ZvZSq2fYI"
      },
      "execution_count": 59,
      "outputs": []
    },
    {
      "cell_type": "code",
      "source": [
        "# Выводим результат\n",
        "query = sum_odds \\\n",
        ".writeStream \\\n",
        ".outputMode(\"complete\") \\\n",
        ".queryName(\"Homework4\") \\\n",
        ".format(\"memory\") \\\n",
        ".start()\n",
        "query.awaitTermination(5)"
      ],
      "metadata": {
        "id": "GYvFuDPt2mA3",
        "colab": {
          "base_uri": "https://localhost:8080/"
        },
        "outputId": "cf2d9f85-7721-4bb3-cb45-ea661406b3fd"
      },
      "execution_count": 60,
      "outputs": [
        {
          "output_type": "execute_result",
          "data": {
            "text/plain": [
              "False"
            ]
          },
          "metadata": {},
          "execution_count": 60
        }
      ]
    },
    {
      "cell_type": "code",
      "source": [
        "from time import sleep\n",
        "for x in range(3):\n",
        "    spark.sql(\"select * from Homework4\").show(3)\n",
        "    sleep(2)"
      ],
      "metadata": {
        "colab": {
          "base_uri": "https://localhost:8080/"
        },
        "id": "F6qzb_l0mWWI",
        "outputId": "306e8f17-06eb-4435-ba6c-2cac3d6cb776"
      },
      "execution_count": 61,
      "outputs": [
        {
          "output_type": "stream",
          "name": "stdout",
          "text": [
            "+----------+\n",
            "|sum(value)|\n",
            "+----------+\n",
            "|         4|\n",
            "+----------+\n",
            "\n",
            "+----------+\n",
            "|sum(value)|\n",
            "+----------+\n",
            "|         9|\n",
            "+----------+\n",
            "\n",
            "+----------+\n",
            "|sum(value)|\n",
            "+----------+\n",
            "|        25|\n",
            "+----------+\n",
            "\n"
          ]
        }
      ]
    },
    {
      "cell_type": "code",
      "source": [
        "query.stop()"
      ],
      "metadata": {
        "id": "_1z94za1ljNV"
      },
      "execution_count": 62,
      "outputs": []
    }
  ]
}