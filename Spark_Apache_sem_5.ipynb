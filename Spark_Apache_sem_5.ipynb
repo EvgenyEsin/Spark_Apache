{
  "nbformat": 4,
  "nbformat_minor": 0,
  "metadata": {
    "colab": {
      "provenance": [],
      "authorship_tag": "ABX9TyOfvqOIh0s/uyrHGh10L9wd",
      "include_colab_link": true
    },
    "kernelspec": {
      "name": "python3",
      "display_name": "Python 3"
    },
    "language_info": {
      "name": "python"
    }
  },
  "cells": [
    {
      "cell_type": "markdown",
      "metadata": {
        "id": "view-in-github",
        "colab_type": "text"
      },
      "source": [
        "<a href=\"https://colab.research.google.com/github/EvgenyEsin/Spark_Apache/blob/main/Spark_Apache_sem_5.ipynb\" target=\"_parent\"><img src=\"https://colab.research.google.com/assets/colab-badge.svg\" alt=\"Open In Colab\"/></a>"
      ]
    },
    {
      "cell_type": "markdown",
      "source": [
        "## ДЗ к семинару 5\n",
        "\n",
        "создайте csv файл с таким содержимым:\n",
        "\n",
        "title,author,genre,sales,year\n",
        "\n",
        "\"1984\", \"George Orwell\", \"Science Fiction\", 5000, 1949\n",
        "\n",
        "\"The Lord of the Rings\", \"J.R.R. Tolkien\", \"Fantasy\", 3000, 1954\n",
        "\n",
        "\"To Kill a Mockingbird\", \"Harper Lee\", \"Southern Gothic\", 4000, 1960\n",
        "\n",
        "\"The Catcher in the Rye\", \"J.D. Salinger\", \"Novel\", 2000, 1951\n",
        "\n",
        "\"The Great Gatsby\", \"F. Scott Fitzgerald\", \"Novel\", 4500, 1925\n",
        "\n",
        "Задание:\n",
        "\n",
        "— Используя Spark прочитайте данные из файла csv.\n",
        "— Фильтруйте данные, чтобы оставить только книги, продажи которых превышают 3000 экземпляров.\n",
        "— Сгруппируйте данные по жанру и вычислите общий объем продаж для каждого жанра.\n",
        "— Отсортируйте данные по общему объему продаж в порядке убывания.\n",
        "— Выведите результаты на экран."
      ],
      "metadata": {
        "id": "DmEGb6NXpBMO"
      }
    },
    {
      "cell_type": "code",
      "execution_count": 1,
      "metadata": {
        "colab": {
          "base_uri": "https://localhost:8080/"
        },
        "id": "RycsfLpFo-nX",
        "outputId": "aeff1a80-4696-4a10-d614-a79278e3f82e"
      },
      "outputs": [
        {
          "output_type": "stream",
          "name": "stdout",
          "text": [
            "Collecting pyspark\n",
            "  Downloading pyspark-3.5.1.tar.gz (317.0 MB)\n",
            "\u001b[2K     \u001b[90m━━━━━━━━━━━━━━━━━━━━━━━━━━━━━━━━━━━━━━━━\u001b[0m \u001b[32m317.0/317.0 MB\u001b[0m \u001b[31m4.1 MB/s\u001b[0m eta \u001b[36m0:00:00\u001b[0m\n",
            "\u001b[?25h  Preparing metadata (setup.py) ... \u001b[?25l\u001b[?25hdone\n",
            "Requirement already satisfied: py4j==0.10.9.7 in /usr/local/lib/python3.10/dist-packages (from pyspark) (0.10.9.7)\n",
            "Building wheels for collected packages: pyspark\n",
            "  Building wheel for pyspark (setup.py) ... \u001b[?25l\u001b[?25hdone\n",
            "  Created wheel for pyspark: filename=pyspark-3.5.1-py2.py3-none-any.whl size=317488490 sha256=0249b41ef2b8e7ee505ce171db850d2f45497877fbc554b851038bf7baef4435\n",
            "  Stored in directory: /root/.cache/pip/wheels/80/1d/60/2c256ed38dddce2fdd93be545214a63e02fbd8d74fb0b7f3a6\n",
            "Successfully built pyspark\n",
            "Installing collected packages: pyspark\n",
            "Successfully installed pyspark-3.5.1\n"
          ]
        }
      ],
      "source": [
        "! pip install pyspark"
      ]
    },
    {
      "cell_type": "code",
      "source": [
        "from pyspark.sql import SparkSession\n",
        "from pyspark.sql.window import Window\n",
        "import pyspark.sql.functions as fn\n",
        "from pyspark.sql.types import DoubleType"
      ],
      "metadata": {
        "id": "FEdyw1EdpUdk"
      },
      "execution_count": 2,
      "outputs": []
    },
    {
      "cell_type": "code",
      "source": [
        "# Создание Spark сессии\n",
        "spark = SparkSession.builder.appName(\"Homework5\").getOrCreate()"
      ],
      "metadata": {
        "id": "b6qtIQJQpWTI"
      },
      "execution_count": 3,
      "outputs": []
    },
    {
      "cell_type": "code",
      "source": [
        "# Загрузка данных\n",
        "df = spark.read.option(\"header\",True).csv(\"data.csv\")\n",
        "print(\"Исходный датасет:\")\n",
        "df.show()"
      ],
      "metadata": {
        "colab": {
          "base_uri": "https://localhost:8080/"
        },
        "id": "305bDvLzpYnU",
        "outputId": "b4a52b8d-c61b-46e9-c9f7-d7484d6edd3b"
      },
      "execution_count": 4,
      "outputs": [
        {
          "output_type": "stream",
          "name": "stdout",
          "text": [
            "Исходный датасет:\n",
            "+--------------------+--------------------+--------------------+-----+------+\n",
            "|               title|              author|               genre|sales|  year|\n",
            "+--------------------+--------------------+--------------------+-----+------+\n",
            "|           \"\"\"1984\"\"|   \"\"George Orwell\"\"| \"\"Science Fiction\"\"| 5000| 1949\"|\n",
            "|\"\"\"The Lord of th...|  \"\"J.R.R. Tolkien\"\"|         \"\"Fantasy\"\"| 3000| 1954\"|\n",
            "|\"\"\"To Kill a Mock...|      \"\"Harper Lee\"\"| \"\"Southern Gothic\"\"| 4000| 1960\"|\n",
            "|\"\"\"The Catcher in...|   \"\"J.D. Salinger\"\"|           \"\"Novel\"\"| 2000| 1951\"|\n",
            "|\"\"\"The Great Gats...| \"\"F. Scott Fitzg...|           \"\"Novel\"\"| 4500| 1925\"|\n",
            "+--------------------+--------------------+--------------------+-----+------+\n",
            "\n"
          ]
        }
      ]
    },
    {
      "cell_type": "code",
      "source": [
        "# Фильтрация данных, чтобы оставить только книги, продажи которых превышают 3000 экземпляров\n",
        "filtered_df = df.filter(df.sales > 3000)\n",
        "print(\"Фильтрация по продажам (более 3000 экземпляров):\")\n",
        "filtered_df.show()"
      ],
      "metadata": {
        "colab": {
          "base_uri": "https://localhost:8080/"
        },
        "id": "fUzhPzAOpkjJ",
        "outputId": "992a06f0-790e-4015-e05e-c9e565ba4962"
      },
      "execution_count": 5,
      "outputs": [
        {
          "output_type": "stream",
          "name": "stdout",
          "text": [
            "Фильтрация по продажам (более 3000 экземпляров):\n",
            "+--------------------+--------------------+--------------------+-----+------+\n",
            "|               title|              author|               genre|sales|  year|\n",
            "+--------------------+--------------------+--------------------+-----+------+\n",
            "|           \"\"\"1984\"\"|   \"\"George Orwell\"\"| \"\"Science Fiction\"\"| 5000| 1949\"|\n",
            "|\"\"\"To Kill a Mock...|      \"\"Harper Lee\"\"| \"\"Southern Gothic\"\"| 4000| 1960\"|\n",
            "|\"\"\"The Great Gats...| \"\"F. Scott Fitzg...|           \"\"Novel\"\"| 4500| 1925\"|\n",
            "+--------------------+--------------------+--------------------+-----+------+\n",
            "\n"
          ]
        }
      ]
    },
    {
      "cell_type": "code",
      "source": [
        "# Группировка данных по жанру и вычисление общего объема продаж для каждого жанра\n",
        "window_spec = Window.partitionBy(\"genre\")\n",
        "sum_sales_by_genre = fn.sum(\"sales\").over(window_spec)\n",
        "sum_sales_by_genre_df = df.withColumn(\"sum_sales_by_genre\", sum_sales_by_genre)"
      ],
      "metadata": {
        "id": "zaZ3PLmsposs"
      },
      "execution_count": 6,
      "outputs": []
    },
    {
      "cell_type": "code",
      "source": [
        "# Сортировка данных по общему объему продаж в порядке убывания и вывод результатов:\n",
        "print(\"Общие объемы продаж по жанрам в порядке убывания:\")\n",
        "sum_sales_by_genre_df.select([\"genre\", \"sum_sales_by_genre\"]).distinct() \\\n",
        "    .orderBy(sum_sales_by_genre_df.sum_sales_by_genre.desc()).show()"
      ],
      "metadata": {
        "colab": {
          "base_uri": "https://localhost:8080/"
        },
        "id": "nzFwb9jKppL9",
        "outputId": "d01265e1-12ba-4ff1-83ee-e737d437da19"
      },
      "execution_count": 7,
      "outputs": [
        {
          "output_type": "stream",
          "name": "stdout",
          "text": [
            "Общие объемы продаж по жанрам в порядке убывания:\n",
            "+--------------------+------------------+\n",
            "|               genre|sum_sales_by_genre|\n",
            "+--------------------+------------------+\n",
            "|           \"\"Novel\"\"|            6500.0|\n",
            "| \"\"Science Fiction\"\"|            5000.0|\n",
            "| \"\"Southern Gothic\"\"|            4000.0|\n",
            "|         \"\"Fantasy\"\"|            3000.0|\n",
            "+--------------------+------------------+\n",
            "\n"
          ]
        }
      ]
    }
  ]
}