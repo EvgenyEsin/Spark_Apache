{
  "nbformat": 4,
  "nbformat_minor": 0,
  "metadata": {
    "colab": {
      "provenance": [],
      "authorship_tag": "ABX9TyM1MuxSDxsRZprAhrI7/i/6",
      "include_colab_link": true
    },
    "kernelspec": {
      "name": "python3",
      "display_name": "Python 3"
    },
    "language_info": {
      "name": "python"
    }
  },
  "cells": [
    {
      "cell_type": "markdown",
      "metadata": {
        "id": "view-in-github",
        "colab_type": "text"
      },
      "source": [
        "<a href=\"https://colab.research.google.com/github/EvgenyEsin/Spark_Apache/blob/main/Spark_Apache_sem_3.ipynb\" target=\"_parent\"><img src=\"https://colab.research.google.com/assets/colab-badge.svg\" alt=\"Open In Colab\"/></a>"
      ]
    },
    {
      "cell_type": "markdown",
      "source": [
        "## ДЗ к семинару 3\n",
        "Условие: есть набор данных о продажах продуктов с информацией о дате продаж, категории продукта, количестве и выручке от продаж.\n",
        "\n",
        "Используя Apache Spark, загрузите предоставленный набор данных в DataFrame (пример данных ниже)."
      ],
      "metadata": {
        "id": "2MC5AcACz6sj"
      }
    },
    {
      "cell_type": "code",
      "source": [
        "! pip install pyspark"
      ],
      "metadata": {
        "colab": {
          "base_uri": "https://localhost:8080/"
        },
        "id": "TRc9jjy90HNu",
        "outputId": "c4a5ef85-87f9-43e1-d446-7fb879c21f91"
      },
      "execution_count": 2,
      "outputs": [
        {
          "output_type": "stream",
          "name": "stdout",
          "text": [
            "Collecting pyspark\n",
            "  Downloading pyspark-3.5.1.tar.gz (317.0 MB)\n",
            "\u001b[2K     \u001b[90m━━━━━━━━━━━━━━━━━━━━━━━━━━━━━━━━━━━━━━━━\u001b[0m \u001b[32m317.0/317.0 MB\u001b[0m \u001b[31m4.8 MB/s\u001b[0m eta \u001b[36m0:00:00\u001b[0m\n",
            "\u001b[?25h  Preparing metadata (setup.py) ... \u001b[?25l\u001b[?25hdone\n",
            "Requirement already satisfied: py4j==0.10.9.7 in /usr/local/lib/python3.10/dist-packages (from pyspark) (0.10.9.7)\n",
            "Building wheels for collected packages: pyspark\n",
            "  Building wheel for pyspark (setup.py) ... \u001b[?25l\u001b[?25hdone\n",
            "  Created wheel for pyspark: filename=pyspark-3.5.1-py2.py3-none-any.whl size=317488490 sha256=eda8b0d30f605e20aa4861b4803b114449e5f8ea1a80dee4edf11f17559981be\n",
            "  Stored in directory: /root/.cache/pip/wheels/80/1d/60/2c256ed38dddce2fdd93be545214a63e02fbd8d74fb0b7f3a6\n",
            "Successfully built pyspark\n",
            "Installing collected packages: pyspark\n",
            "Successfully installed pyspark-3.5.1\n"
          ]
        }
      ]
    },
    {
      "cell_type": "code",
      "execution_count": 3,
      "metadata": {
        "id": "hUi7A4cnz2Lz"
      },
      "outputs": [],
      "source": [
        "from pyspark.sql import SparkSession\n",
        "from pyspark.sql.window import Window\n",
        "import pyspark.sql.functions as fn\n",
        "from pyspark.sql.types import DoubleType"
      ]
    },
    {
      "cell_type": "code",
      "source": [
        "# Создание Spark сессии\n",
        "spark = SparkSession.builder.appName(\"Homework4\").getOrCreate()"
      ],
      "metadata": {
        "id": "gzIzdF8B0PSn"
      },
      "execution_count": 4,
      "outputs": []
    },
    {
      "cell_type": "code",
      "source": [
        "# Исходные данные\n",
        "data = [(\"2023-11-20\", \"Electronics\", 100, 12000),\n",
        "        (\"2023-11-21\", \"Electronics\", 110, 13000),\n",
        "        (\"2023-11-22\", \"Electronics\", 105, 12500),\n",
        "        (\"2023-11-20\", \"Clothing\", 300, 15000),\n",
        "        (\"2023-11-21\", \"Clothing\", 280, 14000),\n",
        "        (\"2023-11-22\", \"Clothing\", 320, 16000),\n",
        "        (\"2023-11-20\", \"Books\", 150, 9000),\n",
        "        (\"2023-11-21\", \"Books\", 200, 12000),\n",
        "        (\"2023-11-22\", \"Books\", 180, 10000)]"
      ],
      "metadata": {
        "id": "eoAN0sMg0RpQ"
      },
      "execution_count": 5,
      "outputs": []
    },
    {
      "cell_type": "code",
      "source": [
        "# Создание DataFrame\n",
        "schema = [\"date\", \"category\", \"quantity\", \"revenue\"]\n",
        "df = spark.createDataFrame(data, schema)"
      ],
      "metadata": {
        "id": "HOdC2jF70Tzl"
      },
      "execution_count": 6,
      "outputs": []
    },
    {
      "cell_type": "code",
      "source": [
        "# Преобразование поля date в тип данных DateType\n",
        "df = df.withColumn(\"date\", fn.to_date(\"date\"))"
      ],
      "metadata": {
        "id": "BCJXuUBR0WH_"
      },
      "execution_count": 7,
      "outputs": []
    },
    {
      "cell_type": "code",
      "source": [
        "# Определение оконной спецификации\n",
        "window_spec = Window.partitionBy(\"category\")"
      ],
      "metadata": {
        "id": "-8alaUqP0YcT"
      },
      "execution_count": 8,
      "outputs": []
    },
    {
      "cell_type": "code",
      "source": [
        "# Оконная функция: вычисление средней выручки от продаж для каждой категории продукта\n",
        "avg_revenue = fn.avg(\"revenue\").over(window_spec)"
      ],
      "metadata": {
        "id": "rCE1y6MX0cgk"
      },
      "execution_count": 9,
      "outputs": []
    },
    {
      "cell_type": "code",
      "source": [
        "# Применение оконной функции и приведение к double\n",
        "result_df = df.withColumn(\"avg_revenue\", avg_revenue.cast(DoubleType()))"
      ],
      "metadata": {
        "id": "Aa-tgRGE0fIq"
      },
      "execution_count": 10,
      "outputs": []
    },
    {
      "cell_type": "code",
      "source": [
        "# Отображение результатов: используем distinct() для исключения повторов\n",
        "result_df.select([\"category\", \"avg_revenue\"]).distinct().show()"
      ],
      "metadata": {
        "colab": {
          "base_uri": "https://localhost:8080/"
        },
        "id": "5_Sn1KUU0h0C",
        "outputId": "6c1da863-7a3d-40f5-f292-0eeba8df50e2"
      },
      "execution_count": 11,
      "outputs": [
        {
          "output_type": "stream",
          "name": "stdout",
          "text": [
            "+-----------+------------------+\n",
            "|   category|       avg_revenue|\n",
            "+-----------+------------------+\n",
            "|      Books|10333.333333333334|\n",
            "|   Clothing|           15000.0|\n",
            "|Electronics|           12500.0|\n",
            "+-----------+------------------+\n",
            "\n"
          ]
        }
      ]
    },
    {
      "cell_type": "code",
      "source": [
        "# Определение при помощи функции pivot средних значений выручки от продаж по категориям за соответствующий день\n",
        "pivot_df = df.groupBy(\"category\").pivot(\"date\").agg(fn.avg(\"revenue\")).orderBy(\"category\")\n",
        "\n",
        "# Вывод результатов\n",
        "pivot_df.show()"
      ],
      "metadata": {
        "colab": {
          "base_uri": "https://localhost:8080/"
        },
        "id": "zjw0d8U90j2-",
        "outputId": "eee9d503-eec4-41eb-8a21-9f21ba3e84e9"
      },
      "execution_count": 12,
      "outputs": [
        {
          "output_type": "stream",
          "name": "stdout",
          "text": [
            "+-----------+----------+----------+----------+\n",
            "|   category|2023-11-20|2023-11-21|2023-11-22|\n",
            "+-----------+----------+----------+----------+\n",
            "|      Books|    9000.0|   12000.0|   10000.0|\n",
            "|   Clothing|   15000.0|   14000.0|   16000.0|\n",
            "|Electronics|   12000.0|   13000.0|   12500.0|\n",
            "+-----------+----------+----------+----------+\n",
            "\n"
          ]
        }
      ]
    }
  ]
}